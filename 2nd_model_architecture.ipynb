{
 "cells": [
  {
   "cell_type": "code",
   "execution_count": 1,
   "metadata": {},
   "outputs": [
    {
     "name": "stderr",
     "output_type": "stream",
     "text": [
      "2024-03-25 23:50:23.561293: I tensorflow/core/util/port.cc:113] oneDNN custom operations are on. You may see slightly different numerical results due to floating-point round-off errors from different computation orders. To turn them off, set the environment variable `TF_ENABLE_ONEDNN_OPTS=0`.\n",
      "2024-03-25 23:50:23.596489: E external/local_xla/xla/stream_executor/cuda/cuda_dnn.cc:9261] Unable to register cuDNN factory: Attempting to register factory for plugin cuDNN when one has already been registered\n",
      "2024-03-25 23:50:23.596515: E external/local_xla/xla/stream_executor/cuda/cuda_fft.cc:607] Unable to register cuFFT factory: Attempting to register factory for plugin cuFFT when one has already been registered\n",
      "2024-03-25 23:50:23.597225: E external/local_xla/xla/stream_executor/cuda/cuda_blas.cc:1515] Unable to register cuBLAS factory: Attempting to register factory for plugin cuBLAS when one has already been registered\n",
      "2024-03-25 23:50:23.603719: I tensorflow/core/platform/cpu_feature_guard.cc:182] This TensorFlow binary is optimized to use available CPU instructions in performance-critical operations.\n",
      "To enable the following instructions: AVX2 AVX512F AVX512_VNNI AVX512_BF16 FMA, in other operations, rebuild TensorFlow with the appropriate compiler flags.\n",
      "2024-03-25 23:50:24.611482: W tensorflow/compiler/tf2tensorrt/utils/py_utils.cc:38] TF-TRT Warning: Could not find TensorRT\n"
     ]
    }
   ],
   "source": [
    "from torchvision import transforms\n",
    "from torchvision.utils import Image\n",
    "import os\n",
    "import torch.nn as nn\n",
    "from torchvision.models.detection import maskrcnn_resnet50_fpn, MaskRCNN_ResNet50_FPN_Weights\n",
    "import tensorflow as tf\n",
    "import torch\n",
    "from torch.utils.data import DataLoader\n",
    "import torchvision.models as models\n",
    "import torch.optim as optim\n",
    "import matplotlib.pyplot as plt\n",
    "import shutil\n",
    "import cv2\n",
    "import numpy as np"
   ]
  },
  {
   "cell_type": "code",
   "execution_count": 2,
   "metadata": {},
   "outputs": [],
   "source": [
    "def Read_Data():\n",
    "  temp = []\n",
    "  temp2 = []\n",
    "  for subs in os.listdir(f\"dataset/images/train\"):\n",
    "    temp.append(f\"dataset/images/train/{subs}\")\n",
    "  for subs in os.listdir(f\"dataset/masks/train\"):\n",
    "    temp2.append(f\"dataset/masks/train/{subs}\")\n",
    "  result = [list(pair) for pair in zip(temp, temp2)]\n",
    "  return result"
   ]
  },
  {
   "cell_type": "code",
   "execution_count": 3,
   "metadata": {},
   "outputs": [],
   "source": [
    "train= Read_Data()"
   ]
  },
  {
   "cell_type": "code",
   "execution_count": 4,
   "metadata": {},
   "outputs": [],
   "source": [
    "train_x = []\n",
    "train_y = []\n",
    "transform = transforms.Compose([transforms.Resize((256,256)),transforms.ToTensor()])\n",
    "for i in train:\n",
    "    mask = Image.open(i[0])\n",
    "    mask_tensor = transform(mask)\n",
    "    mask_tensor.to(\"cuda\")\n",
    "    train_x.append(mask_tensor)\n",
    "\n",
    "for i in train:\n",
    "    mask = Image.open(f\"{i[1]}\")\n",
    "    mask = transform(mask)\n",
    "    mask_tensor.to(\"cuda\")\n",
    "    binary_mask = torch.where(mask == 1/255, torch.tensor(1.0), torch.tensor(0.0))\n",
    "    train_y.append(binary_mask)"
   ]
  },
  {
   "cell_type": "code",
   "execution_count": 5,
   "metadata": {},
   "outputs": [
    {
     "name": "stdout",
     "output_type": "stream",
     "text": [
      "tensor([[[0.5137, 0.5176, 0.5216,  ..., 0.7176, 0.7137, 0.7137],\n",
      "         [0.5176, 0.5216, 0.5255,  ..., 0.7216, 0.7176, 0.7176],\n",
      "         [0.5216, 0.5255, 0.5294,  ..., 0.7216, 0.7176, 0.7176],\n",
      "         ...,\n",
      "         [0.0275, 0.0353, 0.0471,  ..., 0.0471, 0.0510, 0.0549],\n",
      "         [0.0275, 0.0392, 0.0431,  ..., 0.0627, 0.0627, 0.0667],\n",
      "         [0.0235, 0.0314, 0.0431,  ..., 0.0549, 0.0588, 0.0588]],\n",
      "\n",
      "        [[0.7569, 0.7608, 0.7686,  ..., 0.9137, 0.9098, 0.9098],\n",
      "         [0.7608, 0.7647, 0.7725,  ..., 0.9176, 0.9137, 0.9137],\n",
      "         [0.7647, 0.7686, 0.7725,  ..., 0.9176, 0.9137, 0.9137],\n",
      "         ...,\n",
      "         [0.0549, 0.0549, 0.0588,  ..., 0.1216, 0.1216, 0.1255],\n",
      "         [0.0627, 0.0627, 0.0588,  ..., 0.1373, 0.1333, 0.1373],\n",
      "         [0.0627, 0.0588, 0.0627,  ..., 0.1373, 0.1255, 0.1255]],\n",
      "\n",
      "        [[0.8157, 0.8196, 0.8275,  ..., 0.9412, 0.9451, 0.9451],\n",
      "         [0.8196, 0.8235, 0.8314,  ..., 0.9451, 0.9490, 0.9490],\n",
      "         [0.8235, 0.8275, 0.8314,  ..., 0.9490, 0.9490, 0.9490],\n",
      "         ...,\n",
      "         [0.0510, 0.0588, 0.0784,  ..., 0.1373, 0.1373, 0.1412],\n",
      "         [0.0588, 0.0706, 0.0784,  ..., 0.1529, 0.1490, 0.1529],\n",
      "         [0.0588, 0.0706, 0.0784,  ..., 0.1490, 0.1529, 0.1529]]])\n"
     ]
    }
   ],
   "source": [
    "print(train_x[0])"
   ]
  },
  {
   "cell_type": "code",
   "execution_count": 6,
   "metadata": {},
   "outputs": [],
   "source": [
    "data_set = []\n",
    "for i in range(len(train_x)):\n",
    "    data_set.append([train_x[i],train_y[i]])"
   ]
  },
  {
   "cell_type": "code",
   "execution_count": 11,
   "metadata": {},
   "outputs": [],
   "source": [
    "dataset = DataLoader(data_set, batch_size=16, shuffle=True)"
   ]
  },
  {
   "cell_type": "code",
   "execution_count": 12,
   "metadata": {},
   "outputs": [],
   "source": [
    "class UNetWithResNet(nn.Module):\n",
    "    def conv_block(self, in_channels, out_channels):\n",
    "        return nn.Sequential(\n",
    "            nn.Conv2d(in_channels, out_channels,kernel_size=1),\n",
    "            nn.ReLU(inplace=True),\n",
    "            nn.Conv2d(out_channels, out_channels,kernel_size=1),\n",
    "            nn.ReLU(inplace=True),\n",
    "            nn.Conv2d(out_channels, out_channels,kernel_size=1),\n",
    "            nn.ReLU(inplace=True)\n",
    "\n",
    "        )\n",
    "    def __init__(self):\n",
    "        super(UNetWithResNet, self).__init__()\n",
    "        self.enc1 = self.conv_block(3, 64)\n",
    "        self.enc2 = self.conv_block(64, 128)\n",
    "        self.enc3 = self.conv_block(128, 256)\n",
    "        self.enc4 = self.conv_block(256, 512)\n",
    "        self.enc5 = self.conv_block(512, 1024)\n",
    "        self.max = nn.MaxPool2d(kernel_size=2, stride=2)\n",
    "        self.upconv4 = nn.ConvTranspose2d(1024, 512, kernel_size=2, stride=2)\n",
    "        self.upconv3 = nn.ConvTranspose2d(512, 256, kernel_size=2, stride=2)\n",
    "        self.upconv2 = nn.ConvTranspose2d(256, 128, kernel_size=2, stride=2)\n",
    "        self.upconv1 = nn.ConvTranspose2d(128, 64, kernel_size=2, stride=2)\n",
    "        self.dec1 = self.conv_block(1024, 512)\n",
    "        self.dec2 = self.conv_block(512, 256)\n",
    "        self.dec3 = self.conv_block(256, 128)\n",
    "        self.dec4 = self.conv_block(128, 64)\n",
    "        self.out = nn.Conv2d(64, 1, kernel_size=1)\n",
    "        \n",
    "    def forward(self, x):\n",
    "        x1 = self.enc1(x)\n",
    "        x2 = self.enc2(self.max(x1))\n",
    "        x3 = self.enc3(self.max(x2))\n",
    "        x4 = self.enc4(self.max(x3))\n",
    "        x5 = self.enc5(self.max(x4))\n",
    "        \n",
    "        x = self.upconv4(x5)\n",
    "        x = torch.cat([x, x4], dim=1)\n",
    "        x = self.dec1(x)\n",
    "\n",
    "        x = self.upconv3(x)\n",
    "        x = torch.cat([x, x3], dim=1)\n",
    "        x = self.dec2(x)\n",
    "\n",
    "        x = self.upconv2(x)\n",
    "        x = torch.cat([x, x2], dim=1)\n",
    "        x = self.dec3(x)\n",
    "\n",
    "        x = self.upconv1(x)\n",
    "        x = torch.cat([x, x1], dim=1)\n",
    "        x = self.dec4(x)\n",
    "        return self.out(x)"
   ]
  },
  {
   "cell_type": "code",
   "execution_count": 13,
   "metadata": {},
   "outputs": [],
   "source": [
    "model = UNetWithResNet()\n",
    "model.to(\"cuda\")\n",
    "criterion = nn.BCEWithLogitsLoss()\n",
    "optimizer = optim.Adam(model.parameters(), lr=0.001)"
   ]
  },
  {
   "cell_type": "code",
   "execution_count": 15,
   "metadata": {},
   "outputs": [
    {
     "name": "stdout",
     "output_type": "stream",
     "text": [
      "Epoch [1/100], Loss: 0.7178\n",
      "Epoch [2/100], Loss: 0.6970\n",
      "Epoch [3/100], Loss: 0.6924\n",
      "Epoch [4/100], Loss: 0.6778\n",
      "Epoch [5/100], Loss: 0.6832\n",
      "Epoch [6/100], Loss: 0.6719\n",
      "Epoch [7/100], Loss: 0.6778\n",
      "Epoch [8/100], Loss: 0.6659\n",
      "Epoch [9/100], Loss: 0.6685\n",
      "Epoch [10/100], Loss: 0.6661\n",
      "Epoch [11/100], Loss: 0.6836\n",
      "Epoch [12/100], Loss: 0.6769\n",
      "Epoch [13/100], Loss: 0.6684\n",
      "Epoch [14/100], Loss: 0.6700\n",
      "Epoch [15/100], Loss: 0.6588\n",
      "Epoch [16/100], Loss: 0.6503\n",
      "Epoch [17/100], Loss: 0.6639\n",
      "Epoch [18/100], Loss: 0.6593\n",
      "Epoch [19/100], Loss: 0.6559\n",
      "Epoch [20/100], Loss: 0.6592\n",
      "Epoch [21/100], Loss: 0.6604\n",
      "Epoch [22/100], Loss: 0.6633\n",
      "Epoch [23/100], Loss: 0.6506\n",
      "Epoch [24/100], Loss: 0.6682\n",
      "Epoch [25/100], Loss: 0.6536\n",
      "Epoch [26/100], Loss: 0.6505\n",
      "Epoch [27/100], Loss: 0.6758\n",
      "Epoch [28/100], Loss: 0.6483\n",
      "Epoch [29/100], Loss: 0.6750\n",
      "Epoch [30/100], Loss: 0.6555\n",
      "Epoch [31/100], Loss: 0.6607\n",
      "Epoch [32/100], Loss: 0.6529\n",
      "Epoch [33/100], Loss: 0.6641\n",
      "Epoch [34/100], Loss: 0.6608\n",
      "Epoch [35/100], Loss: 0.6612\n",
      "Epoch [36/100], Loss: 0.6594\n",
      "Epoch [37/100], Loss: 0.6761\n",
      "Epoch [38/100], Loss: 0.6522\n",
      "Epoch [39/100], Loss: 0.6504\n",
      "Epoch [40/100], Loss: 0.6573\n",
      "Epoch [41/100], Loss: 0.6584\n",
      "Epoch [42/100], Loss: 0.6849\n",
      "Epoch [43/100], Loss: 0.6583\n",
      "Epoch [44/100], Loss: 0.6459\n",
      "Epoch [45/100], Loss: 0.6471\n",
      "Epoch [46/100], Loss: 0.6564\n",
      "Epoch [47/100], Loss: 0.6652\n",
      "Epoch [48/100], Loss: 0.6515\n",
      "Epoch [49/100], Loss: 0.6480\n",
      "Epoch [50/100], Loss: 0.6575\n",
      "Epoch [51/100], Loss: 0.6629\n",
      "Epoch [52/100], Loss: 0.6467\n",
      "Epoch [53/100], Loss: 0.6588\n",
      "Epoch [54/100], Loss: 0.6519\n",
      "Epoch [55/100], Loss: 0.6650\n",
      "Epoch [56/100], Loss: 0.6644\n",
      "Epoch [57/100], Loss: 0.6586\n",
      "Epoch [58/100], Loss: 0.6489\n",
      "Epoch [59/100], Loss: 0.6537\n",
      "Epoch [60/100], Loss: 0.6531\n",
      "Epoch [61/100], Loss: 0.6404\n",
      "Epoch [62/100], Loss: 0.6431\n",
      "Epoch [63/100], Loss: 0.6658\n",
      "Epoch [64/100], Loss: 0.6693\n",
      "Epoch [65/100], Loss: 0.6464\n",
      "Epoch [66/100], Loss: 0.6425\n",
      "Epoch [67/100], Loss: 0.6549\n",
      "Epoch [68/100], Loss: 0.6444\n",
      "Epoch [69/100], Loss: 0.6385\n",
      "Epoch [70/100], Loss: 0.6465\n",
      "Epoch [71/100], Loss: 0.6425\n",
      "Epoch [72/100], Loss: 0.6529\n",
      "Epoch [73/100], Loss: 0.6385\n",
      "Epoch [74/100], Loss: 0.6529\n",
      "Epoch [75/100], Loss: 0.6521\n",
      "Epoch [76/100], Loss: 0.6497\n",
      "Epoch [77/100], Loss: 0.6505\n",
      "Epoch [78/100], Loss: 0.6413\n",
      "Epoch [79/100], Loss: 0.6512\n",
      "Epoch [80/100], Loss: 0.6526\n",
      "Epoch [81/100], Loss: 0.6548\n",
      "Epoch [82/100], Loss: 0.6612\n",
      "Epoch [83/100], Loss: 0.6539\n",
      "Epoch [84/100], Loss: 0.6545\n",
      "Epoch [85/100], Loss: 0.6563\n",
      "Epoch [86/100], Loss: 0.6554\n",
      "Epoch [87/100], Loss: 0.6469\n",
      "Epoch [88/100], Loss: 0.6743\n",
      "Epoch [89/100], Loss: 0.6448\n",
      "Epoch [90/100], Loss: 0.6498\n",
      "Epoch [91/100], Loss: 0.6412\n",
      "Epoch [92/100], Loss: 0.6450\n",
      "Epoch [93/100], Loss: 0.6595\n",
      "Epoch [94/100], Loss: 0.6411\n",
      "Epoch [95/100], Loss: 0.6545\n",
      "Epoch [96/100], Loss: 0.6518\n",
      "Epoch [97/100], Loss: 0.6346\n",
      "Epoch [98/100], Loss: 0.6577\n",
      "Epoch [99/100], Loss: 0.6380\n",
      "Epoch [100/100], Loss: 0.6387\n"
     ]
    }
   ],
   "source": [
    "num_epochs = 100\n",
    "for epoch in range(num_epochs):\n",
    "    model.train()\n",
    "    running_loss = 0.0\n",
    "    for images, targets in dataset:\n",
    "        optimizer.zero_grad()\n",
    "        outputs = model(images.to(\"cuda\"))\n",
    "        loss = criterion(outputs, targets.to(\"cuda\"))\n",
    "        loss.backward()\n",
    "        optimizer.step()\n",
    "        running_loss += loss.item() * images.size(0)\n",
    "    \n",
    "    epoch_loss = running_loss / len(dataset)\n",
    "    print(f\"Epoch [{epoch+1}/{num_epochs}], Loss: {epoch_loss:.4f}\")"
   ]
  },
  {
   "cell_type": "code",
   "execution_count": 17,
   "metadata": {},
   "outputs": [],
   "source": [
    "torch.save(model.state_dict(), 'f2_model.pt')"
   ]
  },
  {
   "cell_type": "code",
   "execution_count": 18,
   "metadata": {},
   "outputs": [
    {
     "data": {
      "text/plain": [
       "<All keys matched successfully>"
      ]
     },
     "execution_count": 18,
     "metadata": {},
     "output_type": "execute_result"
    }
   ],
   "source": [
    "model = UNetWithResNet()\n",
    "state_dic = torch.load('f2_model.pt')\n",
    "model.load_state_dict(state_dic)"
   ]
  },
  {
   "cell_type": "code",
   "execution_count": 20,
   "metadata": {},
   "outputs": [
    {
     "ename": "RuntimeError",
     "evalue": "Given groups=1, weight of size [512, 1024, 1, 1], expected input[1, 512, 64, 32] to have 1024 channels, but got 512 channels instead",
     "output_type": "error",
     "traceback": [
      "\u001b[0;31m---------------------------------------------------------------------------\u001b[0m",
      "\u001b[0;31mRuntimeError\u001b[0m                              Traceback (most recent call last)",
      "Cell \u001b[0;32mIn[20], line 5\u001b[0m\n\u001b[1;32m      3\u001b[0m transform2 \u001b[38;5;241m=\u001b[39m transforms\u001b[38;5;241m.\u001b[39mToPILImage()\n\u001b[1;32m      4\u001b[0m trans_img \u001b[38;5;241m=\u001b[39m transform(img)\n\u001b[0;32m----> 5\u001b[0m result \u001b[38;5;241m=\u001b[39m \u001b[43mmodel\u001b[49m\u001b[43m(\u001b[49m\u001b[43mtrans_img\u001b[49m\u001b[43m)\u001b[49m\n\u001b[1;32m      6\u001b[0m plt\u001b[38;5;241m.\u001b[39mimshow(transform2(result))\n\u001b[1;32m      7\u001b[0m plt\u001b[38;5;241m.\u001b[39mshow()\n",
      "File \u001b[0;32m~/anaconda3/envs/tf-cuda/lib/python3.11/site-packages/torch/nn/modules/module.py:1511\u001b[0m, in \u001b[0;36mModule._wrapped_call_impl\u001b[0;34m(self, *args, **kwargs)\u001b[0m\n\u001b[1;32m   1509\u001b[0m     \u001b[38;5;28;01mreturn\u001b[39;00m \u001b[38;5;28mself\u001b[39m\u001b[38;5;241m.\u001b[39m_compiled_call_impl(\u001b[38;5;241m*\u001b[39margs, \u001b[38;5;241m*\u001b[39m\u001b[38;5;241m*\u001b[39mkwargs)  \u001b[38;5;66;03m# type: ignore[misc]\u001b[39;00m\n\u001b[1;32m   1510\u001b[0m \u001b[38;5;28;01melse\u001b[39;00m:\n\u001b[0;32m-> 1511\u001b[0m     \u001b[38;5;28;01mreturn\u001b[39;00m \u001b[38;5;28;43mself\u001b[39;49m\u001b[38;5;241;43m.\u001b[39;49m\u001b[43m_call_impl\u001b[49m\u001b[43m(\u001b[49m\u001b[38;5;241;43m*\u001b[39;49m\u001b[43margs\u001b[49m\u001b[43m,\u001b[49m\u001b[43m \u001b[49m\u001b[38;5;241;43m*\u001b[39;49m\u001b[38;5;241;43m*\u001b[39;49m\u001b[43mkwargs\u001b[49m\u001b[43m)\u001b[49m\n",
      "File \u001b[0;32m~/anaconda3/envs/tf-cuda/lib/python3.11/site-packages/torch/nn/modules/module.py:1520\u001b[0m, in \u001b[0;36mModule._call_impl\u001b[0;34m(self, *args, **kwargs)\u001b[0m\n\u001b[1;32m   1515\u001b[0m \u001b[38;5;66;03m# If we don't have any hooks, we want to skip the rest of the logic in\u001b[39;00m\n\u001b[1;32m   1516\u001b[0m \u001b[38;5;66;03m# this function, and just call forward.\u001b[39;00m\n\u001b[1;32m   1517\u001b[0m \u001b[38;5;28;01mif\u001b[39;00m \u001b[38;5;129;01mnot\u001b[39;00m (\u001b[38;5;28mself\u001b[39m\u001b[38;5;241m.\u001b[39m_backward_hooks \u001b[38;5;129;01mor\u001b[39;00m \u001b[38;5;28mself\u001b[39m\u001b[38;5;241m.\u001b[39m_backward_pre_hooks \u001b[38;5;129;01mor\u001b[39;00m \u001b[38;5;28mself\u001b[39m\u001b[38;5;241m.\u001b[39m_forward_hooks \u001b[38;5;129;01mor\u001b[39;00m \u001b[38;5;28mself\u001b[39m\u001b[38;5;241m.\u001b[39m_forward_pre_hooks\n\u001b[1;32m   1518\u001b[0m         \u001b[38;5;129;01mor\u001b[39;00m _global_backward_pre_hooks \u001b[38;5;129;01mor\u001b[39;00m _global_backward_hooks\n\u001b[1;32m   1519\u001b[0m         \u001b[38;5;129;01mor\u001b[39;00m _global_forward_hooks \u001b[38;5;129;01mor\u001b[39;00m _global_forward_pre_hooks):\n\u001b[0;32m-> 1520\u001b[0m     \u001b[38;5;28;01mreturn\u001b[39;00m \u001b[43mforward_call\u001b[49m\u001b[43m(\u001b[49m\u001b[38;5;241;43m*\u001b[39;49m\u001b[43margs\u001b[49m\u001b[43m,\u001b[49m\u001b[43m \u001b[49m\u001b[38;5;241;43m*\u001b[39;49m\u001b[38;5;241;43m*\u001b[39;49m\u001b[43mkwargs\u001b[49m\u001b[43m)\u001b[49m\n\u001b[1;32m   1522\u001b[0m \u001b[38;5;28;01mtry\u001b[39;00m:\n\u001b[1;32m   1523\u001b[0m     result \u001b[38;5;241m=\u001b[39m \u001b[38;5;28;01mNone\u001b[39;00m\n",
      "Cell \u001b[0;32mIn[12], line 39\u001b[0m, in \u001b[0;36mUNetWithResNet.forward\u001b[0;34m(self, x)\u001b[0m\n\u001b[1;32m     37\u001b[0m x \u001b[38;5;241m=\u001b[39m \u001b[38;5;28mself\u001b[39m\u001b[38;5;241m.\u001b[39mupconv4(x5)\n\u001b[1;32m     38\u001b[0m x \u001b[38;5;241m=\u001b[39m torch\u001b[38;5;241m.\u001b[39mcat([x, x4], dim\u001b[38;5;241m=\u001b[39m\u001b[38;5;241m1\u001b[39m)\n\u001b[0;32m---> 39\u001b[0m x \u001b[38;5;241m=\u001b[39m \u001b[38;5;28;43mself\u001b[39;49m\u001b[38;5;241;43m.\u001b[39;49m\u001b[43mdec1\u001b[49m\u001b[43m(\u001b[49m\u001b[43mx\u001b[49m\u001b[43m)\u001b[49m\n\u001b[1;32m     41\u001b[0m x \u001b[38;5;241m=\u001b[39m \u001b[38;5;28mself\u001b[39m\u001b[38;5;241m.\u001b[39mupconv3(x)\n\u001b[1;32m     42\u001b[0m x \u001b[38;5;241m=\u001b[39m torch\u001b[38;5;241m.\u001b[39mcat([x, x3], dim\u001b[38;5;241m=\u001b[39m\u001b[38;5;241m1\u001b[39m)\n",
      "File \u001b[0;32m~/anaconda3/envs/tf-cuda/lib/python3.11/site-packages/torch/nn/modules/module.py:1511\u001b[0m, in \u001b[0;36mModule._wrapped_call_impl\u001b[0;34m(self, *args, **kwargs)\u001b[0m\n\u001b[1;32m   1509\u001b[0m     \u001b[38;5;28;01mreturn\u001b[39;00m \u001b[38;5;28mself\u001b[39m\u001b[38;5;241m.\u001b[39m_compiled_call_impl(\u001b[38;5;241m*\u001b[39margs, \u001b[38;5;241m*\u001b[39m\u001b[38;5;241m*\u001b[39mkwargs)  \u001b[38;5;66;03m# type: ignore[misc]\u001b[39;00m\n\u001b[1;32m   1510\u001b[0m \u001b[38;5;28;01melse\u001b[39;00m:\n\u001b[0;32m-> 1511\u001b[0m     \u001b[38;5;28;01mreturn\u001b[39;00m \u001b[38;5;28;43mself\u001b[39;49m\u001b[38;5;241;43m.\u001b[39;49m\u001b[43m_call_impl\u001b[49m\u001b[43m(\u001b[49m\u001b[38;5;241;43m*\u001b[39;49m\u001b[43margs\u001b[49m\u001b[43m,\u001b[49m\u001b[43m \u001b[49m\u001b[38;5;241;43m*\u001b[39;49m\u001b[38;5;241;43m*\u001b[39;49m\u001b[43mkwargs\u001b[49m\u001b[43m)\u001b[49m\n",
      "File \u001b[0;32m~/anaconda3/envs/tf-cuda/lib/python3.11/site-packages/torch/nn/modules/module.py:1520\u001b[0m, in \u001b[0;36mModule._call_impl\u001b[0;34m(self, *args, **kwargs)\u001b[0m\n\u001b[1;32m   1515\u001b[0m \u001b[38;5;66;03m# If we don't have any hooks, we want to skip the rest of the logic in\u001b[39;00m\n\u001b[1;32m   1516\u001b[0m \u001b[38;5;66;03m# this function, and just call forward.\u001b[39;00m\n\u001b[1;32m   1517\u001b[0m \u001b[38;5;28;01mif\u001b[39;00m \u001b[38;5;129;01mnot\u001b[39;00m (\u001b[38;5;28mself\u001b[39m\u001b[38;5;241m.\u001b[39m_backward_hooks \u001b[38;5;129;01mor\u001b[39;00m \u001b[38;5;28mself\u001b[39m\u001b[38;5;241m.\u001b[39m_backward_pre_hooks \u001b[38;5;129;01mor\u001b[39;00m \u001b[38;5;28mself\u001b[39m\u001b[38;5;241m.\u001b[39m_forward_hooks \u001b[38;5;129;01mor\u001b[39;00m \u001b[38;5;28mself\u001b[39m\u001b[38;5;241m.\u001b[39m_forward_pre_hooks\n\u001b[1;32m   1518\u001b[0m         \u001b[38;5;129;01mor\u001b[39;00m _global_backward_pre_hooks \u001b[38;5;129;01mor\u001b[39;00m _global_backward_hooks\n\u001b[1;32m   1519\u001b[0m         \u001b[38;5;129;01mor\u001b[39;00m _global_forward_hooks \u001b[38;5;129;01mor\u001b[39;00m _global_forward_pre_hooks):\n\u001b[0;32m-> 1520\u001b[0m     \u001b[38;5;28;01mreturn\u001b[39;00m \u001b[43mforward_call\u001b[49m\u001b[43m(\u001b[49m\u001b[38;5;241;43m*\u001b[39;49m\u001b[43margs\u001b[49m\u001b[43m,\u001b[49m\u001b[43m \u001b[49m\u001b[38;5;241;43m*\u001b[39;49m\u001b[38;5;241;43m*\u001b[39;49m\u001b[43mkwargs\u001b[49m\u001b[43m)\u001b[49m\n\u001b[1;32m   1522\u001b[0m \u001b[38;5;28;01mtry\u001b[39;00m:\n\u001b[1;32m   1523\u001b[0m     result \u001b[38;5;241m=\u001b[39m \u001b[38;5;28;01mNone\u001b[39;00m\n",
      "File \u001b[0;32m~/anaconda3/envs/tf-cuda/lib/python3.11/site-packages/torch/nn/modules/container.py:217\u001b[0m, in \u001b[0;36mSequential.forward\u001b[0;34m(self, input)\u001b[0m\n\u001b[1;32m    215\u001b[0m \u001b[38;5;28;01mdef\u001b[39;00m \u001b[38;5;21mforward\u001b[39m(\u001b[38;5;28mself\u001b[39m, \u001b[38;5;28minput\u001b[39m):\n\u001b[1;32m    216\u001b[0m     \u001b[38;5;28;01mfor\u001b[39;00m module \u001b[38;5;129;01min\u001b[39;00m \u001b[38;5;28mself\u001b[39m:\n\u001b[0;32m--> 217\u001b[0m         \u001b[38;5;28minput\u001b[39m \u001b[38;5;241m=\u001b[39m \u001b[43mmodule\u001b[49m\u001b[43m(\u001b[49m\u001b[38;5;28;43minput\u001b[39;49m\u001b[43m)\u001b[49m\n\u001b[1;32m    218\u001b[0m     \u001b[38;5;28;01mreturn\u001b[39;00m \u001b[38;5;28minput\u001b[39m\n",
      "File \u001b[0;32m~/anaconda3/envs/tf-cuda/lib/python3.11/site-packages/torch/nn/modules/module.py:1511\u001b[0m, in \u001b[0;36mModule._wrapped_call_impl\u001b[0;34m(self, *args, **kwargs)\u001b[0m\n\u001b[1;32m   1509\u001b[0m     \u001b[38;5;28;01mreturn\u001b[39;00m \u001b[38;5;28mself\u001b[39m\u001b[38;5;241m.\u001b[39m_compiled_call_impl(\u001b[38;5;241m*\u001b[39margs, \u001b[38;5;241m*\u001b[39m\u001b[38;5;241m*\u001b[39mkwargs)  \u001b[38;5;66;03m# type: ignore[misc]\u001b[39;00m\n\u001b[1;32m   1510\u001b[0m \u001b[38;5;28;01melse\u001b[39;00m:\n\u001b[0;32m-> 1511\u001b[0m     \u001b[38;5;28;01mreturn\u001b[39;00m \u001b[38;5;28;43mself\u001b[39;49m\u001b[38;5;241;43m.\u001b[39;49m\u001b[43m_call_impl\u001b[49m\u001b[43m(\u001b[49m\u001b[38;5;241;43m*\u001b[39;49m\u001b[43margs\u001b[49m\u001b[43m,\u001b[49m\u001b[43m \u001b[49m\u001b[38;5;241;43m*\u001b[39;49m\u001b[38;5;241;43m*\u001b[39;49m\u001b[43mkwargs\u001b[49m\u001b[43m)\u001b[49m\n",
      "File \u001b[0;32m~/anaconda3/envs/tf-cuda/lib/python3.11/site-packages/torch/nn/modules/module.py:1520\u001b[0m, in \u001b[0;36mModule._call_impl\u001b[0;34m(self, *args, **kwargs)\u001b[0m\n\u001b[1;32m   1515\u001b[0m \u001b[38;5;66;03m# If we don't have any hooks, we want to skip the rest of the logic in\u001b[39;00m\n\u001b[1;32m   1516\u001b[0m \u001b[38;5;66;03m# this function, and just call forward.\u001b[39;00m\n\u001b[1;32m   1517\u001b[0m \u001b[38;5;28;01mif\u001b[39;00m \u001b[38;5;129;01mnot\u001b[39;00m (\u001b[38;5;28mself\u001b[39m\u001b[38;5;241m.\u001b[39m_backward_hooks \u001b[38;5;129;01mor\u001b[39;00m \u001b[38;5;28mself\u001b[39m\u001b[38;5;241m.\u001b[39m_backward_pre_hooks \u001b[38;5;129;01mor\u001b[39;00m \u001b[38;5;28mself\u001b[39m\u001b[38;5;241m.\u001b[39m_forward_hooks \u001b[38;5;129;01mor\u001b[39;00m \u001b[38;5;28mself\u001b[39m\u001b[38;5;241m.\u001b[39m_forward_pre_hooks\n\u001b[1;32m   1518\u001b[0m         \u001b[38;5;129;01mor\u001b[39;00m _global_backward_pre_hooks \u001b[38;5;129;01mor\u001b[39;00m _global_backward_hooks\n\u001b[1;32m   1519\u001b[0m         \u001b[38;5;129;01mor\u001b[39;00m _global_forward_hooks \u001b[38;5;129;01mor\u001b[39;00m _global_forward_pre_hooks):\n\u001b[0;32m-> 1520\u001b[0m     \u001b[38;5;28;01mreturn\u001b[39;00m \u001b[43mforward_call\u001b[49m\u001b[43m(\u001b[49m\u001b[38;5;241;43m*\u001b[39;49m\u001b[43margs\u001b[49m\u001b[43m,\u001b[49m\u001b[43m \u001b[49m\u001b[38;5;241;43m*\u001b[39;49m\u001b[38;5;241;43m*\u001b[39;49m\u001b[43mkwargs\u001b[49m\u001b[43m)\u001b[49m\n\u001b[1;32m   1522\u001b[0m \u001b[38;5;28;01mtry\u001b[39;00m:\n\u001b[1;32m   1523\u001b[0m     result \u001b[38;5;241m=\u001b[39m \u001b[38;5;28;01mNone\u001b[39;00m\n",
      "File \u001b[0;32m~/anaconda3/envs/tf-cuda/lib/python3.11/site-packages/torch/nn/modules/conv.py:460\u001b[0m, in \u001b[0;36mConv2d.forward\u001b[0;34m(self, input)\u001b[0m\n\u001b[1;32m    459\u001b[0m \u001b[38;5;28;01mdef\u001b[39;00m \u001b[38;5;21mforward\u001b[39m(\u001b[38;5;28mself\u001b[39m, \u001b[38;5;28minput\u001b[39m: Tensor) \u001b[38;5;241m-\u001b[39m\u001b[38;5;241m>\u001b[39m Tensor:\n\u001b[0;32m--> 460\u001b[0m     \u001b[38;5;28;01mreturn\u001b[39;00m \u001b[38;5;28;43mself\u001b[39;49m\u001b[38;5;241;43m.\u001b[39;49m\u001b[43m_conv_forward\u001b[49m\u001b[43m(\u001b[49m\u001b[38;5;28;43minput\u001b[39;49m\u001b[43m,\u001b[49m\u001b[43m \u001b[49m\u001b[38;5;28;43mself\u001b[39;49m\u001b[38;5;241;43m.\u001b[39;49m\u001b[43mweight\u001b[49m\u001b[43m,\u001b[49m\u001b[43m \u001b[49m\u001b[38;5;28;43mself\u001b[39;49m\u001b[38;5;241;43m.\u001b[39;49m\u001b[43mbias\u001b[49m\u001b[43m)\u001b[49m\n",
      "File \u001b[0;32m~/anaconda3/envs/tf-cuda/lib/python3.11/site-packages/torch/nn/modules/conv.py:456\u001b[0m, in \u001b[0;36mConv2d._conv_forward\u001b[0;34m(self, input, weight, bias)\u001b[0m\n\u001b[1;32m    452\u001b[0m \u001b[38;5;28;01mif\u001b[39;00m \u001b[38;5;28mself\u001b[39m\u001b[38;5;241m.\u001b[39mpadding_mode \u001b[38;5;241m!=\u001b[39m \u001b[38;5;124m'\u001b[39m\u001b[38;5;124mzeros\u001b[39m\u001b[38;5;124m'\u001b[39m:\n\u001b[1;32m    453\u001b[0m     \u001b[38;5;28;01mreturn\u001b[39;00m F\u001b[38;5;241m.\u001b[39mconv2d(F\u001b[38;5;241m.\u001b[39mpad(\u001b[38;5;28minput\u001b[39m, \u001b[38;5;28mself\u001b[39m\u001b[38;5;241m.\u001b[39m_reversed_padding_repeated_twice, mode\u001b[38;5;241m=\u001b[39m\u001b[38;5;28mself\u001b[39m\u001b[38;5;241m.\u001b[39mpadding_mode),\n\u001b[1;32m    454\u001b[0m                     weight, bias, \u001b[38;5;28mself\u001b[39m\u001b[38;5;241m.\u001b[39mstride,\n\u001b[1;32m    455\u001b[0m                     _pair(\u001b[38;5;241m0\u001b[39m), \u001b[38;5;28mself\u001b[39m\u001b[38;5;241m.\u001b[39mdilation, \u001b[38;5;28mself\u001b[39m\u001b[38;5;241m.\u001b[39mgroups)\n\u001b[0;32m--> 456\u001b[0m \u001b[38;5;28;01mreturn\u001b[39;00m \u001b[43mF\u001b[49m\u001b[38;5;241;43m.\u001b[39;49m\u001b[43mconv2d\u001b[49m\u001b[43m(\u001b[49m\u001b[38;5;28;43minput\u001b[39;49m\u001b[43m,\u001b[49m\u001b[43m \u001b[49m\u001b[43mweight\u001b[49m\u001b[43m,\u001b[49m\u001b[43m \u001b[49m\u001b[43mbias\u001b[49m\u001b[43m,\u001b[49m\u001b[43m \u001b[49m\u001b[38;5;28;43mself\u001b[39;49m\u001b[38;5;241;43m.\u001b[39;49m\u001b[43mstride\u001b[49m\u001b[43m,\u001b[49m\n\u001b[1;32m    457\u001b[0m \u001b[43m                \u001b[49m\u001b[38;5;28;43mself\u001b[39;49m\u001b[38;5;241;43m.\u001b[39;49m\u001b[43mpadding\u001b[49m\u001b[43m,\u001b[49m\u001b[43m \u001b[49m\u001b[38;5;28;43mself\u001b[39;49m\u001b[38;5;241;43m.\u001b[39;49m\u001b[43mdilation\u001b[49m\u001b[43m,\u001b[49m\u001b[43m \u001b[49m\u001b[38;5;28;43mself\u001b[39;49m\u001b[38;5;241;43m.\u001b[39;49m\u001b[43mgroups\u001b[49m\u001b[43m)\u001b[49m\n",
      "\u001b[0;31mRuntimeError\u001b[0m: Given groups=1, weight of size [512, 1024, 1, 1], expected input[1, 512, 64, 32] to have 1024 channels, but got 512 channels instead"
     ]
    }
   ],
   "source": [
    "img = Image.open(\"dog1.jpg\")\n",
    "transform = transforms.Compose([transforms.Resize((256,256)),transforms.ToTensor()])\n",
    "transform2 = transforms.ToPILImage()\n",
    "trans_img = transform(img)\n",
    "result = model(trans_img)\n",
    "plt.imshow(transform2(result))\n",
    "plt.show()"
   ]
  }
 ],
 "metadata": {
  "kernelspec": {
   "display_name": "Python 3",
   "language": "python",
   "name": "python3"
  },
  "language_info": {
   "codemirror_mode": {
    "name": "ipython",
    "version": 3
   },
   "file_extension": ".py",
   "mimetype": "text/x-python",
   "name": "python",
   "nbconvert_exporter": "python",
   "pygments_lexer": "ipython3",
   "version": "3.11.0"
  }
 },
 "nbformat": 4,
 "nbformat_minor": 2
}
